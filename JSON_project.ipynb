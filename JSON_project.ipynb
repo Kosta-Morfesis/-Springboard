{
 "cells": [
  {
   "cell_type": "code",
   "execution_count": 427,
   "metadata": {
    "collapsed": true
   },
   "outputs": [],
   "source": [
    "import pandas as pd\n",
    "import json\n",
    "import numpy as np\n",
    "from pandas.io.json import json_normalize"
   ]
  },
  {
   "cell_type": "code",
   "execution_count": 428,
   "metadata": {},
   "outputs": [],
   "source": [
    "df = pd.read_json('data/world_bank_projects.json')\n"
   ]
  },
  {
   "cell_type": "code",
   "execution_count": 429,
   "metadata": {},
   "outputs": [],
   "source": [
    "df = df.set_index('countryname')"
   ]
  },
  {
   "cell_type": "markdown",
   "metadata": {},
   "source": [
    "# Top 10 Countries with Most Projects"
   ]
  },
  {
   "cell_type": "code",
   "execution_count": 430,
   "metadata": {},
   "outputs": [
    {
     "name": "stdout",
     "output_type": "stream",
     "text": [
      "countryname\n",
      "Republic of Mozambique             11\n",
      "Africa                             11\n",
      "Kingdom of Morocco                 12\n",
      "People's Republic of Bangladesh    12\n",
      "Nepal                              12\n",
      "Republic of Yemen                  13\n",
      "Republic of India                  16\n",
      "Socialist Republic of Vietnam      17\n",
      "Republic of Indonesia              19\n",
      "People's Republic of China         19\n",
      "dtype: int64\n"
     ]
    }
   ],
   "source": [
    "projects_per_country = df.groupby(df.index).size()\n",
    "top_10 = projects_per_country.sort_values().tail(10)\n",
    "print(top_10)"
   ]
  },
  {
   "cell_type": "markdown",
   "metadata": {},
   "source": [
    "# Top 10 Major Project Themes"
   ]
  },
  {
   "cell_type": "code",
   "execution_count": 431,
   "metadata": {},
   "outputs": [
    {
     "name": "stdout",
     "output_type": "stream",
     "text": [
      "      name\n",
      "code      \n",
      "1       38\n",
      "9       50\n",
      "5       77\n",
      "7      130\n",
      "4      146\n",
      "6      168\n",
      "2      199\n",
      "8      210\n",
      "10     216\n",
      "11     250\n"
     ]
    }
   ],
   "source": [
    "data = list(df['mjtheme_namecode'])\n",
    "data = [item for sublist in data for item in sublist]\n",
    "df_data = pd.DataFrame(data) \n",
    "print(df_data.groupby('code').count().sort_values('name').tail(10))"
   ]
  },
  {
   "cell_type": "markdown",
   "metadata": {},
   "source": [
    "# Missing Names Filled In"
   ]
  },
  {
   "cell_type": "code",
   "execution_count": 432,
   "metadata": {},
   "outputs": [
    {
     "name": "stdout",
     "output_type": "stream",
     "text": [
      "     code                 name\n",
      "458     1  Economic management\n",
      "1235    1  Economic management\n",
      "1230    1  Economic management\n",
      "1229    1  Economic management\n",
      "1218    1  Economic management\n",
      "900     1  Economic management\n",
      "648     1  Economic management\n",
      "647     1  Economic management\n",
      "1078    1  Economic management\n",
      "1206    1  Economic management\n",
      "1437    1  Economic management\n",
      "357     1  Economic management\n",
      "363     1  Economic management\n",
      "1010    1  Economic management\n",
      "784     1  Economic management\n",
      "1024    1  Economic management\n",
      "88      1  Economic management\n",
      "1045    1  Economic management\n",
      "497     1  Economic management\n",
      "1056    1  Economic management\n",
      "1057    1  Economic management\n",
      "1114    1  Economic management\n",
      "454     1  Economic management\n",
      "453     1  Economic management\n",
      "1257    1  Economic management\n",
      "1260    1  Economic management\n",
      "1212    1  Economic management\n",
      "249     1  Economic management\n",
      "841     1  Economic management\n",
      "220     1  Economic management\n",
      "...   ...                  ...\n",
      "669     9    Urban development\n",
      "1303    9    Urban development\n",
      "1347    9    Urban development\n",
      "460     9    Urban development\n",
      "1342    9    Urban development\n",
      "183     9    Urban development\n",
      "200     9    Urban development\n",
      "1318    9    Urban development\n",
      "1290    9    Urban development\n",
      "585     9    Urban development\n",
      "737     9    Urban development\n",
      "822     9    Urban development\n",
      "369     9    Urban development\n",
      "597     9    Urban development\n",
      "53      9    Urban development\n",
      "598     9    Urban development\n",
      "356     9    Urban development\n",
      "354     9    Urban development\n",
      "962     9    Urban development\n",
      "738     9    Urban development\n",
      "512     9    Urban development\n",
      "742     9    Urban development\n",
      "1428    9    Urban development\n",
      "333     9    Urban development\n",
      "1426    9    Urban development\n",
      "1425    9    Urban development\n",
      "447     9    Urban development\n",
      "739     9    Urban development\n",
      "341     9    Urban development\n",
      "1102    9    Urban development\n",
      "\n",
      "[1499 rows x 2 columns]\n"
     ]
    }
   ],
   "source": [
    "df_data = df_data.replace('',np.nan)\n",
    "df_sorted = df_data.sort_values('code')\n",
    "df_correct = df_sorted.ffill()\n",
    "print(df_correct)"
   ]
  },
  {
   "cell_type": "code",
   "execution_count": null,
   "metadata": {
    "collapsed": true
   },
   "outputs": [],
   "source": []
  }
 ],
 "metadata": {
  "kernelspec": {
   "display_name": "Python 2",
   "language": "python",
   "name": "python2"
  },
  "language_info": {
   "codemirror_mode": {
    "name": "ipython",
    "version": 2
   },
   "file_extension": ".py",
   "mimetype": "text/x-python",
   "name": "python",
   "nbconvert_exporter": "python",
   "pygments_lexer": "ipython2",
   "version": "2.7.14"
  }
 },
 "nbformat": 4,
 "nbformat_minor": 2
}

{
 "cells": [
  {
   "cell_type": "markdown",
   "metadata": {},
   "source": [
    "# What is the True Normal Human Body Temperature? \n",
    "\n",
    "#### Background\n",
    "\n",
    "The mean normal body temperature was held to be 37$^{\\circ}$C or 98.6$^{\\circ}$F for more than 120 years since it was first conceptualized and reported by Carl Wunderlich in a famous 1868 book. But, is this value statistically correct?"
   ]
  },
  {
   "cell_type": "markdown",
   "metadata": {},
   "source": [
    "<h3>Exercises</h3>\n",
    "\n",
    "<p>In this exercise, you will analyze a dataset of human body temperatures and employ the concepts of hypothesis testing, confidence intervals, and statistical significance.</p>\n",
    "\n",
    "<p>Answer the following questions <b>in this notebook below and submit to your Github account</b>.</p> \n",
    "\n",
    "<ol>\n",
    "<li>  Is the distribution of body temperatures normal? \n",
    "    <ul>\n",
    "    <li> Although this is not a requirement for the Central Limit Theorem to hold (read the introduction on Wikipedia's page about the CLT carefully: https://en.wikipedia.org/wiki/Central_limit_theorem), it gives us some peace of mind that the population may also be normally distributed if we assume that this sample is representative of the population.\n",
    "    <li> Think about the way you're going to check for the normality of the distribution. Graphical methods are usually used first, but there are also other ways: https://en.wikipedia.org/wiki/Normality_test\n",
    "    </ul>\n",
    "<li>  Is the sample size large? Are the observations independent?\n",
    "    <ul>\n",
    "    <li> Remember that this is a condition for the Central Limit Theorem, and hence the statistical tests we are using, to apply.\n",
    "    </ul>\n",
    "<li>  Is the true population mean really 98.6 degrees F?\n",
    "    <ul>\n",
    "    <li> First, try a bootstrap hypothesis test.\n",
    "    <li> Now, let's try frequentist statistical testing. Would you use a one-sample or two-sample test? Why?\n",
    "    <li> In this situation, is it appropriate to use the $t$ or $z$ statistic? \n",
    "    <li> Now try using the other test. How is the result be different? Why?\n",
    "    </ul>\n",
    "<li>  Draw a small sample of size 10 from the data and repeat both frequentist tests. \n",
    "    <ul>\n",
    "    <li> Which one is the correct one to use? \n",
    "    <li> What do you notice? What does this tell you about the difference in application of the $t$ and $z$ statistic?\n",
    "    </ul>\n",
    "<li>  At what temperature should we consider someone's temperature to be \"abnormal\"?\n",
    "    <ul>\n",
    "    <li> As in the previous example, try calculating everything using the boostrap approach, as well as the frequentist approach.\n",
    "    <li> Start by computing the margin of error and confidence interval. When calculating the confidence interval, keep in mind that you should use the appropriate formula for one draw, and not N draws.\n",
    "    </ul>\n",
    "<li>  Is there a significant difference between males and females in normal temperature?\n",
    "    <ul>\n",
    "    <li> What testing approach did you use and why?\n",
    "    <li> Write a story with your conclusion in the context of the original problem.\n",
    "    </ul>\n",
    "</ol>\n",
    "\n",
    "You can include written notes in notebook cells using Markdown: \n",
    "   - In the control panel at the top, choose Cell > Cell Type > Markdown\n",
    "   - Markdown syntax: http://nestacms.com/docs/creating-content/markdown-cheat-sheet\n",
    "\n",
    "#### Resources\n",
    "\n",
    "+ Information and data sources: http://www.amstat.org/publications/jse/datasets/normtemp.txt, http://www.amstat.org/publications/jse/jse_data_archive.htm\n",
    "+ Markdown syntax: http://nestacms.com/docs/creating-content/markdown-cheat-sheet\n",
    "\n",
    "****"
   ]
  },
  {
   "cell_type": "code",
   "execution_count": 119,
   "metadata": {},
   "outputs": [],
   "source": [
    "import pandas as pd\n",
    "import matplotlib.pyplot as plt\n",
    "import numpy as np\n",
    "import scipy.stats as stats\n",
    "df = pd.read_csv('data/human_body_temperature.csv')"
   ]
  },
  {
   "cell_type": "markdown",
   "metadata": {},
   "source": [
    "# Problem 1"
   ]
  },
  {
   "cell_type": "code",
   "execution_count": 54,
   "metadata": {},
   "outputs": [
    {
     "data": {
      "image/png": "[encoded data removed]",
      "text/plain": [
       "<matplotlib.figure.Figure at 0x7fe67bd2e5d0>"
      ]
     },
     "metadata": {},
     "output_type": "display_data"
    }
   ],
   "source": [
    "# Your work here\n",
    "def ecdf(data):\n",
    "    \"\"\"Compute ECDF for a one-dimensional array of measurements.\"\"\"\n",
    "    # Number of data points: n\n",
    "    n = len(data)\n",
    "\n",
    "    # x-data for the ECDF: x\n",
    "    x = np.sort(data)\n",
    "\n",
    "    # y-data for the ECDF: y\n",
    "    y = np.arange(1., float(n)+1.) / n\n",
    "\n",
    "    return x, y\n",
    "x,y = ecdf(df.temperature)\n",
    "mean_temp = df.temperature.mean()\n",
    "std_temp = df.temperature.std()\n",
    "x_norm, y_norm = ecdf(np.random.normal(mean_temp, std_temp, len(df.temperature)))\n",
    "plt.plot(x, y, marker='.', linestyle='none')\n",
    "plt.plot(x_norm, y_norm, marker='.', linestyle='none')\n",
    "plt.xlabel('Temperature')\n",
    "plt.ylabel('CDF')\n",
    "plt.legend(['data','normal'])\n",
    "plt.show()\n",
    "# np.arange(1,131)/\n",
    "# np.random.normal(mean_temp, std_temp, len(df.temperature))"
   ]
  },
  {
   "cell_type": "markdown",
   "metadata": {},
   "source": [
    "Looking at the CDF for the data as compared to a normal distribution gives a good indication that the data is normal. Looking at the PDF would not provide as accurate of a prediction because binning bias."
   ]
  },
  {
   "cell_type": "markdown",
   "metadata": {},
   "source": [
    "# Problem 2"
   ]
  },
  {
   "cell_type": "code",
   "execution_count": 203,
   "metadata": {},
   "outputs": [
    {
     "data": {
      "text/plain": [
       "130"
      ]
     },
     "execution_count": 203,
     "metadata": {},
     "output_type": "execute_result"
    }
   ],
   "source": [
    "len(df.temperature)  #yes it's enough data points, much more than 30"
   ]
  },
  {
   "cell_type": "markdown",
   "metadata": {},
   "source": [
    "The sample size is large enough (n > 30), also the observations should be independent since we certainly took less than 10% of the population. And also measuring an individuals body temperature doesn't affect anothers. "
   ]
  },
  {
   "cell_type": "markdown",
   "metadata": {},
   "source": [
    "# Problem 3\n",
    "(a)"
   ]
  },
  {
   "cell_type": "code",
   "execution_count": 113,
   "metadata": {},
   "outputs": [
    {
     "name": "stdout",
     "output_type": "stream",
     "text": [
      "p = 0\n"
     ]
    }
   ],
   "source": [
    "def draw_bs_reps(data, func, size=1):\n",
    "    \"\"\"Draw bootstrap replicates.\"\"\"\n",
    "\n",
    "    # Initialize array of replicates: bs_replicates\n",
    "    bs_replicates = np.empty(size)\n",
    "    # Generate replicates\n",
    "    for i in range(size):\n",
    "        bs_replicates[i] = func(np.random.choice(data, size=len(data)))\n",
    "    return bs_replicates\n",
    "\n",
    "#shift temperature mean and draw bootstrap samples for p-value\n",
    "temp_shift = df.temperature - df.temperature.mean() + 98.6\n",
    "bs_samples = draw_bs_reps(temp_shift, np.mean, 10000)\n",
    "p = np.sum(bs_samples <= df.temperature.mean())\n",
    "print('p = ' + str(p))"
   ]
  },
  {
   "cell_type": "markdown",
   "metadata": {},
   "source": [
    "Using a bootstrap one-sample hypothesis test (it's a one sample test because we are comparing a set of data to a value, as opposed to two sets of data to each other) we see the following above results. \n",
    "\n",
    "$H_0$: the mean temperature is 98.6 degrees fahrenheit \n",
    "\n",
    "$H_A$: the mean temperature is not 98.6 degrees fahrenheit\n",
    "\n",
    "By shifting the sample results to have a mean of 98.6, we can measure the probability of obtaining the sample mean. The p-value is zero, which implies that the actual p-value would be extremely small even if we were to take many data measurements. Consequently we can reject the null hypothesis and state that: the mean temperature is unlikely to be 98.6 degrees fahreinheit."
   ]
  },
  {
   "cell_type": "markdown",
   "metadata": {},
   "source": [
    "(b)"
   ]
  },
  {
   "cell_type": "markdown",
   "metadata": {},
   "source": [
    "Using a different method we can test as well. We will have to use the t-statistic and a one sample test. The t-statistic because we are dealing with the sample mean, and we do not have the correct standard deviation of the sample mean to use. More concretely we know\n",
    "\n",
    "\\begin{align}\n",
    "z=\\frac{\\bar{x}-\\mu_0}{\\sigma_{\\bar{x}}}\n",
    "\\end{align}\n",
    "\n",
    "where $\\mu_0=98.6$ is our null hypothesis value for the population mean ($\\mu=\\mu_0$). But now since we do not know $\\sigma_{\\bar{x}}$ we need to approximate with the sample standard deviation to get:\n",
    "\\begin{align}\n",
    "t=\\frac{\\bar{x}-\\mu_0}{\\frac{S}{\\sqrt{n}}}\n",
    "\\end{align}\n",
    "Using this we can check the t-value given the same null hypothesis as above, that the actual population mean is 98.6 degrees fahrenheit."
   ]
  },
  {
   "cell_type": "code",
   "execution_count": 127,
   "metadata": {},
   "outputs": [
    {
     "name": "stdout",
     "output_type": "stream",
     "text": [
      "t = 5.45482329236\n",
      "t-test p-value = 1.20531602078e-07\n",
      "z-test p-value = 2.45107850683e-08\n"
     ]
    }
   ],
   "source": [
    "mu_0 = 98.6\n",
    "S = df.temperature.std()\n",
    "n = len(df.temperature)\n",
    "x_avg = df.temperature.mean()\n",
    "t = (x_avg - mu_0)/(S/(np.sqrt(n)))\n",
    "pvalt = stats.t.sf(np.abs(t), n-1)\n",
    "pvalz = 1 - stats.norm.cdf(np.abs(t))\n",
    "print('t = ' + str(-t))\n",
    "print('t-test p-value = ' + str(pvalt))\n",
    "print('z-test p-value = ' + str(pvalz))"
   ]
  },
  {
   "cell_type": "markdown",
   "metadata": {},
   "source": [
    "From the df = n-1 and the obtained t-value we can use stats.t.sf to find the p-value. The value is seen above and is quite small, the value for the z-test is also small. In either case, we once again reject the null hypothesis $H_0$. As for the reason for the discrepancy, we can note that the t-distribution has fatter tails and thus higher probabilities which would account for why the value is higher. "
   ]
  },
  {
   "cell_type": "markdown",
   "metadata": {},
   "source": [
    "# Problem 4"
   ]
  },
  {
   "cell_type": "markdown",
   "metadata": {},
   "source": [
    "Here we take 10 random samples from the total sample size. We'll use a t-statistic because still we're looking at the sample mean, but also since n < 30 this is especially important. "
   ]
  },
  {
   "cell_type": "code",
   "execution_count": 163,
   "metadata": {},
   "outputs": [
    {
     "name": "stdout",
     "output_type": "stream",
     "text": [
      "t = 1.29027357054\n",
      "t-test p-value = 0.11455907286\n",
      "z-test p-value = 0.0984778449693\n"
     ]
    }
   ],
   "source": [
    "ints = np.random.randint(len(df.temperature), size=10)\n",
    "sample = df.temperature[ints]\n",
    "S = sample.std()\n",
    "n = 10\n",
    "x_avg = sample.mean()\n",
    "t = (x_avg - mu_0)/(S/(np.sqrt(n)))\n",
    "pvalt = stats.t.sf(np.abs(t), n-1)\n",
    "pvalz = 1 - stats.norm.cdf(np.abs(t))\n",
    "print('t = ' + str(-t))\n",
    "print('t-test p-value = ' + str(pvalt))\n",
    "print('z-test p-value = ' + str(pvalz))"
   ]
  },
  {
   "cell_type": "markdown",
   "metadata": {},
   "source": [
    "Here it is clear that choosing between the t statistic and z statistic is important because the p-values can be quite different. Which may lead to a type 1 or type 2 error."
   ]
  },
  {
   "cell_type": "markdown",
   "metadata": {},
   "source": [
    "# Problem 5"
   ]
  },
  {
   "cell_type": "code",
   "execution_count": 176,
   "metadata": {},
   "outputs": [
    {
     "name": "stdout",
     "output_type": "stream",
     "text": [
      "95% confidence interval for bootstrap method:98.1238461538 to 98.3730769231\n",
      "95% confidence interval for frequentist method:98.1743462427 to 98.3241152957\n"
     ]
    }
   ],
   "source": [
    "bs_samples = draw_bs_reps(df.temperature, np.mean, 10000)\n",
    "lowb, highb = np.percentile(bs_samples,[2.5, 97.5])     # 95% confidence interval\n",
    "moe = np.abs(t)*S/np.sqrt(len(df.temperature))\n",
    "lowf = df.temperature.mean() - moe\n",
    "highf = df.temperature.mean() + moe\n",
    "print('95% confidence interval for bootstrap method:'+ str(lowb) + ' to ' + str(highb))\n",
    "print('95% confidence interval for frequentist method:'+ str(lowf) + ' to ' + str(highf))"
   ]
  },
  {
   "cell_type": "markdown",
   "metadata": {},
   "source": [
    "Hence any temperature which is out of the bounds given above should be considered abnormal."
   ]
  },
  {
   "cell_type": "markdown",
   "metadata": {},
   "source": [
    "# Problem 6"
   ]
  },
  {
   "cell_type": "code",
   "execution_count": 202,
   "metadata": {},
   "outputs": [
    {
     "name": "stdout",
     "output_type": "stream",
     "text": [
      "p-value is: 0.0109\n"
     ]
    }
   ],
   "source": [
    "def permutation_sample(data1, data2):\n",
    "    \"\"\"Generate a permutation sample from two data sets.\"\"\"\n",
    "\n",
    "    # Concatenate the data sets: data\n",
    "    data = np.concatenate((data1,data2))\n",
    "\n",
    "    # Permute the concatenated array: permuted_data\n",
    "    permuted_data = np.random.permutation(data)\n",
    "\n",
    "    # Split the permuted array into two: perm_sample_1, perm_sample_2\n",
    "    perm_sample_1 = permuted_data[:len(data1)]\n",
    "    perm_sample_2 = permuted_data[len(data1):]\n",
    "\n",
    "    return perm_sample_1, perm_sample_2\n",
    "\n",
    "def draw_perm_reps(data_1, data_2, func, size=1):\n",
    "    \"\"\"Generate multiple permutation replicates.\"\"\"\n",
    "\n",
    "    # Initialize array of replicates: perm_replicates\n",
    "    perm_replicates = np.empty(size)\n",
    "\n",
    "    for i in range(size):\n",
    "        # Generate permutation sample\n",
    "        perm_sample_1, perm_sample_2 = permutation_sample(data_1, data_2)\n",
    "\n",
    "        # Compute the test statistic\n",
    "        perm_replicates[i] = func(perm_sample_1, perm_sample_2)\n",
    "\n",
    "    return perm_replicates\n",
    "\n",
    "def diff_of_means(data_1, data_2):\n",
    "    \"\"\"Difference in means of two arrays.\"\"\"\n",
    "\n",
    "    # The difference of means of data_1, data_2: diff\n",
    "    diff = np.mean(data_1) - np.mean(data_2)\n",
    "\n",
    "    return diff\n",
    "\n",
    "df_male = df.loc[df.gender == 'M'].temperature\n",
    "df_female = df.loc[df.gender == 'F'].temperature\n",
    "sample_diff = diff_of_means(df_male, df_female)\n",
    "perm_replicates = draw_perm_reps(df_male, df_female, diff_of_means, size=10000)\n",
    "pval = float(np.sum(perm_replicates <= sample_diff))/len(perm_replicates) #fraction of the area to give p-value\n",
    "print('p-value is: '+ str(pval))"
   ]
  },
  {
   "cell_type": "markdown",
   "metadata": {},
   "source": [
    "What we've done here is taken:\n",
    "\n",
    "$H_0$: the difference between male and female body temperatures is zero\n",
    "\n",
    "$H_A$: the difference between male and female body temperatures is non-zero\n",
    "\n",
    "Using a permutation test we can see the above p-value. Using a 95% confidence interval we would require a p-value of .05, hence we reject the null hypothesis. \n",
    "\n",
    "Determining the mean body temperature of people is an important step in being able to determine when someone is substantially differentiated from the mean. In the case that they are, further investigation can be done to create a remedy. \n",
    "\n",
    "Further, it is necessary to distinguish between outstanding factors which can affect mean body temperature which may not be due to an underlying issue. In example, is there a difference in mean body temperature between genders? This question was answered above through utilizing a permutation test. From my analysis and using a 95% confidence interval, it is unlikely that men and woman have the same mean body temperature."
   ]
  },
  {
   "cell_type": "code",
   "execution_count": null,
   "metadata": {
    "collapsed": true
   },
   "outputs": [],
   "source": []
  }
 ],
 "metadata": {
  "kernelspec": {
   "display_name": "Python 2",
   "language": "python",
   "name": "python2"
  },
  "language_info": {
   "codemirror_mode": {
    "name": "ipython",
    "version": 2
   },
   "file_extension": ".py",
   "mimetype": "text/x-python",
   "name": "python",
   "nbconvert_exporter": "python",
   "pygments_lexer": "ipython2",
   "version": "2.7.14"
  }
 },
 "nbformat": 4,
 "nbformat_minor": 1
}
